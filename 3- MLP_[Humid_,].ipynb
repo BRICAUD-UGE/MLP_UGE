{
 "cells": [
  {
   "metadata": {
    "ExecuteTime": {
     "end_time": "2025-07-23T15:08:57.646891Z",
     "start_time": "2025-07-23T15:08:57.638627Z"
    }
   },
   "cell_type": "code",
   "source": [
    "from tensorflow.keras.models import Sequential\n",
    "from tensorflow.keras.layers import Dense, Dropout\n",
    "from tensorflow.keras.callbacks import EarlyStopping\n",
    "from tensorflow.keras.optimizers import Adam\n",
    "from sklearn.preprocessing import StandardScaler\n",
    "from sklearn.model_selection import train_test_split\n",
    "import pandas as pd\n",
    "import itertools\n",
    "import matplotlib.pyplot as plt\n",
    "import numpy as np\n",
    "import random\n",
    "import os\n",
    "import tensorflow as tf\n",
    "from IPython.display import clear_output\n",
    "import time"
   ],
   "id": "e101cb61e2fe2332",
   "outputs": [],
   "execution_count": 19
  },
  {
   "metadata": {
    "ExecuteTime": {
     "end_time": "2025-07-23T15:08:57.715398Z",
     "start_time": "2025-07-23T15:08:57.694271Z"
    }
   },
   "cell_type": "code",
   "source": [
    "def nash_sutcliffe(obs, sim):\n",
    "    return 1 - np.sum((obs - sim) ** 2) / np.sum((obs - np.mean(obs)) ** 2)\n",
    "\n",
    "def PERS(obs, sim):\n",
    "    shifted = np.roll(obs, -1)\n",
    "    obs_1 = np.delete(shifted,len(shifted)-1)\n",
    "    obs_0 = np.delete(obs, len(obs)-1)\n",
    "    return 1 - np.sum((obs - sim) ** 2) / np.sum((obs_0 - obs_1) ** 2)"
   ],
   "id": "8f787774580810c5",
   "outputs": [],
   "execution_count": 20
  },
  {
   "metadata": {
    "ExecuteTime": {
     "end_time": "2025-07-23T15:08:57.816279Z",
     "start_time": "2025-07-23T15:08:57.775846Z"
    }
   },
   "cell_type": "code",
   "source": [
    "#Chargement des données\n",
    "df_y = pd.read_csv(r\"C:\\Users\\bricaud\\PycharmProjects\\Bibliographie_\\Adaptation\\2-Adaptation\\adapt_Alsace_Safran.txt\", sep=\";\")"
   ],
   "id": "a9af3ef62ddb1cc8",
   "outputs": [],
   "execution_count": 21
  },
  {
   "metadata": {
    "ExecuteTime": {
     "end_time": "2025-07-23T15:08:57.897026Z",
     "start_time": "2025-07-23T15:08:57.878905Z"
    }
   },
   "cell_type": "code",
   "source": [
    "#Adaptation des tailles entre x et y\n",
    "len_x, len_y = len(df_x), len(df_y)\n",
    "len_min = min(len_x, len_y)\n",
    "x_ini = df_y['Humid_sol'].iloc[:len_min]\n",
    "y = df_y[\"Q_Obs\"].iloc[:len_min]"
   ],
   "id": "f32afa992f7cca1e",
   "outputs": [],
   "execution_count": 22
  },
  {
   "metadata": {
    "ExecuteTime": {
     "end_time": "2025-07-23T15:08:58.017716Z",
     "start_time": "2025-07-23T15:08:57.957296Z"
    }
   },
   "cell_type": "code",
   "source": [
    "#Séparer train/test\n",
    "x_train, x_valid, y_train, y_valid = train_test_split(x, y, test_size=0.2, shuffle=False)\n",
    "#Normalisation\n",
    "x_scaler = StandardScaler()\n",
    "y_scaler = StandardScaler()\n",
    "x_isol_scaler = StandardScaler()\n",
    "y_isol_scaler = StandardScaler()\n",
    "\n",
    "x_train_scaled = x_scaler.fit_transform(x_train)\n",
    "x_valid_scaled = x_scaler.transform(x_valid)\n",
    "\n",
    "y_train_scaled = y_scaler.fit_transform(y_train.values.reshape(-1, 1))\n",
    "y_valid_scaled = y_scaler.transform(y_valid.values.reshape(-1, 1))\n",
    "\n",
    "len_before, len_after = int(730), int(730)\n",
    "len_valid = len(x_valid)\n",
    "x_valid_isol = x_valid.iloc[len_before:len_valid,:]\n",
    "y_valid_isol = y_valid.iloc[len_before:len_valid]\n",
    "\n",
    "x_train_scaled = x_isol_scaler.fit_transform(x_train)\n",
    "x_valid_isol_scaled = x_isol_scaler.transform(x_valid_isol)\n",
    "\n",
    "y_train_scaled = y_isol_scaler.fit_transform(y_train.values.reshape(-1, 1))\n",
    "y_valid_isol_scaled = y_isol_scaler.transform(y_valid_isol.values.reshape(-1, 1))"
   ],
   "id": "126d6a61366fbd0",
   "outputs": [],
   "execution_count": 23
  },
  {
   "metadata": {
    "ExecuteTime": {
     "end_time": "2025-07-23T15:08:58.118459Z",
     "start_time": "2025-07-23T15:08:58.098357Z"
    }
   },
   "cell_type": "code",
   "source": [
    "df = pd.read_csv(r'C:\\Users\\bricaud\\PycharmProjects\\Bibliographie_\\MLP\\SEED.csv', header=None)\n",
    "random_SEED = df.values.flatten().tolist()"
   ],
   "id": "520f57df6174cf0c",
   "outputs": [],
   "execution_count": 24
  },
  {
   "metadata": {
    "ExecuteTime": {
     "end_time": "2025-07-24T07:11:56.275137Z",
     "start_time": "2025-07-24T07:11:56.263139Z"
    }
   },
   "cell_type": "code",
   "source": [
    "A = [256,256,256,256,64]\n",
    "ini_SEED = [0]"
   ],
   "id": "e36e00329fc87e5a",
   "outputs": [],
   "execution_count": 31
  },
  {
   "metadata": {
    "ExecuteTime": {
     "end_time": "2025-07-23T15:08:58.299919Z",
     "start_time": "2025-07-23T15:08:58.279735Z"
    }
   },
   "cell_type": "code",
   "source": [
    " # t1 = time.time()\n",
    "        # print(f\"Step 1 - Reading CSV: {t1 - t0:.4f} seconds\")"
   ],
   "id": "25afbfea6fd1213f",
   "outputs": [],
   "execution_count": 26
  },
  {
   "metadata": {
    "ExecuteTime": {
     "end_time": "2025-07-24T12:15:22.089668Z",
     "start_time": "2025-07-24T12:15:22.063669Z"
    }
   },
   "cell_type": "code",
   "source": [
    "def MLP (type):\n",
    "    if type == 'isol':\n",
    "        xt_s,yt_s,xv_s,yv_s = x_train_scaled, y_train_scaled, x_valid_isol_scaled, y_valid_isol_scaled\n",
    "        xv,yv = x_valid_isol, y_valid_isol\n",
    "        y_scal = y_isol_scaler\n",
    "    else :\n",
    "        xt_s,yt_s,xv_s,yv_s = x_train_scaled, y_train_scaled, x_valid_scaled, y_valid_scaled\n",
    "        xv,yv = x_valid, y_valid\n",
    "        y_scal = y_scaler\n",
    "    print(f\"{yv}\")\n",
    "\n",
    "    df_seed = pd.DataFrame()\n",
    "    df_stat = pd.DataFrame()\n",
    "    for i in range(len(random_SEED)) :\n",
    "        print(i)\n",
    "        len_a = len(A)\n",
    "        SEED = random_SEED[i]\n",
    "        os.environ['PYTHONHASHSEED'] = str(SEED)\n",
    "        random.seed(SEED)\n",
    "        np.random.seed(SEED)\n",
    "        tf.random.set_seed(SEED)\n",
    "        model = Sequential()\n",
    "        for j in range(len_a) :\n",
    "            model.add(Dense(int(A[j]), activation='relu'))\n",
    "            # model.add(Dropout(0.2))\n",
    "        model.add(Dense(1))  # Sortie régression\n",
    "        model.compile(optimizer='adam', loss='mse', metrics=['mae', 'mape'])\n",
    "        early_stop = EarlyStopping(monitor='val_loss', patience=10, restore_best_weights=True)\n",
    "        history = model.fit(xt_s, yt_s,\n",
    "                            validation_split=0.2,\n",
    "                            epochs=100,\n",
    "                            batch_size=64,\n",
    "                            callbacks=[early_stop],\n",
    "                            verbose=0)\n",
    "\n",
    "        loss, mae, mape = model.evaluate(xv_s, yv_s, verbose = 0)\n",
    "\n",
    "        y_pred_scaled = model.predict(xv_s, verbose = 0)\n",
    "        y_pred = y_scal.inverse_transform(y_pred_scaled)\n",
    "        y_pred_flat = y_pred.flatten()\n",
    "\n",
    "        df_stat[f\"Seed :{SEED}\"] = y_pred_flat\n",
    "\n",
    "        nash = nash_sutcliffe(yv.values, y_pred_flat)\n",
    "        pers = PERS(yv.values, y_pred_flat)\n",
    "\n",
    "        df_seed.loc[i, \"SEED\"] = SEED\n",
    "        df_seed.loc[i, \"NSE\"] = nash\n",
    "        df_seed.loc[i, \"PERS\"] = pers\n",
    "        df_seed.loc[i, \"loss\"] = loss\n",
    "        df_seed.loc[i, 'mae'] = mae\n",
    "\n",
    "        df_seed.to_csv(f\"SEED_Alsace_Safran_['Pluie_Liq','ETR','Humid_sol','Drain']_19500.txt\", sep=';', index=False)\n",
    "        df_stat.to_csv(f\"STAT_Alsace_Safran_['Pluie_Liq','ETR','Humid_sol','Drain']_19500.txt\", sep=';', index=False)\n",
    "        clear_output()\n",
    "\n",
    "    mean_nse = df_seed['NSE'].mean()\n",
    "    median_nse = df_seed['NSE'].median()\n",
    "    std_nse = df_seed['NSE'].std()\n",
    "    row_stats = df_stat.T.describe().T\n",
    "\n",
    "    dif_plus = 0\n",
    "    P = []\n",
    "    dif_minus = 0\n",
    "    M = []\n",
    "    centered = 0\n",
    "    excentered = 0\n",
    "\n",
    "    for i in range(len(row_stats)):\n",
    "        if yv.iloc[i] > row_stats.loc[i, 'max']:\n",
    "            dif_plus += 1\n",
    "            P.append(yv.iloc[i] - row_stats.loc[i, 'max'])\n",
    "        elif yv.iloc[i] < row_stats.loc[i, 'min']:\n",
    "            dif_minus += 1\n",
    "            M.append(row_stats.loc[i, 'min'] - yv.iloc[i])\n",
    "        elif row_stats.loc[i, '75%'] > yv.iloc[i] > row_stats.loc[i, '25%']:\n",
    "            centered += 1\n",
    "        else:\n",
    "            excentered += 1\n",
    "\n",
    "    error_sup = dif_plus / len(row_stats)\n",
    "    error_inf = dif_minus / len(row_stats)\n",
    "    close_valid = centered / len(row_stats)\n",
    "    extended_valid = excentered / len(row_stats)\n",
    "    mean_P = np.mean(P)\n",
    "    mean_M = np.mean(M)\n",
    "\n",
    "    print(f\"error_sup (%): {error_sup * 100:.4f}, mean distance (m) {mean_P}\")\n",
    "    print(f\"error_inf (%): {error_inf * 100:.4f}, mean distance (m) {mean_M}\")\n",
    "    print(f\"close_valid (%): {close_valid * 100:.4f}\")\n",
    "    print(f\"extended_valid (%): {extended_valid * 100:.4f}\")\n",
    "    y_valid_index = yv.reset_index()\n",
    "    plt.figure(figsize=(12, 6))\n",
    "    plt.plot(row_stats['min'], label='Simulation minimale', color='lightblue')\n",
    "    plt.plot(row_stats['max'], label='Simulation maximale', color='lightblue')\n",
    "    plt.plot(row_stats['mean'], label='Simulation moyenne', color='yellow')\n",
    "\n",
    "    plt.plot(y_valid_index['Q_Obs'], label='Observations', color='green')\n",
    "\n",
    "    plt.fill_between(row_stats.index, row_stats['min'], row_stats['max'], alpha=0.5, label='Enveloppe')\n",
    "    plt.text(0.05, 0.95, f'mean_NSE = {mean_nse:.3f} \\n'\n",
    "                         f'median_NSE = {median_nse:.3f} \\n'\n",
    "                         f'std_NSE = {std_nse:.3f}', transform=plt.gca().transAxes,fontsize=12, verticalalignment='top', bbox=dict(facecolor='white', alpha=0.7))\n",
    "    # plt.xlim(0, 500)\n",
    "    plt.grid(True)\n",
    "    plt.legend()\n",
    "    plt.title(f\"Enveloppe des prévisions, taille data : {len(x)}\"\n",
    "              f\"\\n erreur positive : {error_sup * 100:.4f} à {mean_P:.4f}\"\n",
    "              f\"\\n erreur negative : {error_inf * 100:.4f} à {mean_M:.4f}\")\n",
    "    plt.xlabel(\"Jour\")\n",
    "    plt.ylabel(\"Valeur\")\n",
    "    plt.tight_layout()\n",
    "\n",
    "    plt.savefig(f\"Alsace_Humid_SEED_isol_{len(x)}.png\", dpi=300)\n",
    "\n",
    "    plt.show()\n",
    "\n",
    "    return df_seed, df_stat\n"
   ],
   "id": "1f28953c35228efa",
   "outputs": [],
   "execution_count": 74
  },
  {
   "metadata": {
    "jupyter": {
     "is_executing": true
    },
    "ExecuteTime": {
     "start_time": "2025-07-24T12:15:23.479924Z"
    }
   },
   "cell_type": "code",
   "source": "df_seed, df_stat = MLP('isol')",
   "id": "4fb1628ba669f6d9",
   "outputs": [
    {
     "name": "stdout",
     "output_type": "stream",
     "text": [
      "16330    181.34\n",
      "16331    181.33\n",
      "16332    181.34\n",
      "16333    181.34\n",
      "16334    181.38\n",
      "          ...  \n",
      "19495    181.39\n",
      "19496    181.38\n",
      "19497    181.37\n",
      "19498    181.36\n",
      "19499    181.34\n",
      "Name: Q_Obs, Length: 3170, dtype: float64\n",
      "0\n"
     ]
    }
   ],
   "execution_count": null
  },
  {
   "metadata": {},
   "cell_type": "code",
   "outputs": [],
   "execution_count": null,
   "source": "",
   "id": "fcb1617f5d522923"
  }
 ],
 "metadata": {
  "kernelspec": {
   "display_name": "Python 3",
   "language": "python",
   "name": "python3"
  },
  "language_info": {
   "codemirror_mode": {
    "name": "ipython",
    "version": 2
   },
   "file_extension": ".py",
   "mimetype": "text/x-python",
   "name": "python",
   "nbconvert_exporter": "python",
   "pygments_lexer": "ipython2",
   "version": "2.7.6"
  }
 },
 "nbformat": 4,
 "nbformat_minor": 5
}
